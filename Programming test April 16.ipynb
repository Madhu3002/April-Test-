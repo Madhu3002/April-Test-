{
 "cells": [
  {
   "cell_type": "markdown",
   "id": "0935af32",
   "metadata": {},
   "source": [
    "## write a program (with function) which takes a sequence of numbers and check if all \n",
    "## numbers are unique"
   ]
  },
  {
   "cell_type": "code",
   "execution_count": 47,
   "id": "cd2160d4",
   "metadata": {},
   "outputs": [
    {
     "name": "stdout",
     "output_type": "stream",
     "text": [
      "1 is unique\n",
      "2 is unique\n",
      "3 is unique\n",
      "4 is unique\n",
      "5 is unique\n",
      "6  is not unique\n",
      "6 is unique\n",
      "7 is unique\n",
      "8 is unique\n"
     ]
    },
    {
     "ename": "IndexError",
     "evalue": "list index out of range",
     "output_type": "error",
     "traceback": [
      "\u001b[1;31m---------------------------------------------------------------------------\u001b[0m",
      "\u001b[1;31mIndexError\u001b[0m                                Traceback (most recent call last)",
      "\u001b[1;32mC:\\Users\\MADHU'~1\\AppData\\Local\\Temp/ipykernel_11564/2528024559.py\u001b[0m in \u001b[0;36m<module>\u001b[1;34m\u001b[0m\n\u001b[0;32m     10\u001b[0m \u001b[1;33m\u001b[0m\u001b[0m\n\u001b[0;32m     11\u001b[0m \u001b[1;33m\u001b[0m\u001b[0m\n\u001b[1;32m---> 12\u001b[1;33m \u001b[0mfunc\u001b[0m\u001b[1;33m(\u001b[0m\u001b[0ml1\u001b[0m\u001b[1;33m)\u001b[0m\u001b[1;33m\u001b[0m\u001b[1;33m\u001b[0m\u001b[0m\n\u001b[0m",
      "\u001b[1;32mC:\\Users\\MADHU'~1\\AppData\\Local\\Temp/ipykernel_11564/2528024559.py\u001b[0m in \u001b[0;36mfunc\u001b[1;34m(l1)\u001b[0m\n\u001b[0;32m      4\u001b[0m \u001b[1;32mdef\u001b[0m \u001b[0mfunc\u001b[0m\u001b[1;33m(\u001b[0m\u001b[0ml1\u001b[0m\u001b[1;33m)\u001b[0m\u001b[1;33m:\u001b[0m\u001b[1;33m\u001b[0m\u001b[1;33m\u001b[0m\u001b[0m\n\u001b[0;32m      5\u001b[0m     \u001b[1;32mfor\u001b[0m \u001b[0mi\u001b[0m \u001b[1;32min\u001b[0m \u001b[0mrange\u001b[0m\u001b[1;33m(\u001b[0m\u001b[0mlen\u001b[0m\u001b[1;33m(\u001b[0m\u001b[0ml1\u001b[0m\u001b[1;33m)\u001b[0m\u001b[1;33m)\u001b[0m\u001b[1;33m:\u001b[0m\u001b[1;33m\u001b[0m\u001b[1;33m\u001b[0m\u001b[0m\n\u001b[1;32m----> 6\u001b[1;33m         \u001b[1;32mif\u001b[0m \u001b[0ml1\u001b[0m\u001b[1;33m[\u001b[0m\u001b[0mi\u001b[0m\u001b[1;33m]\u001b[0m\u001b[1;33m==\u001b[0m\u001b[0ml1\u001b[0m\u001b[1;33m[\u001b[0m\u001b[0mi\u001b[0m\u001b[1;33m+\u001b[0m\u001b[1;36m1\u001b[0m\u001b[1;33m]\u001b[0m\u001b[1;33m:\u001b[0m\u001b[1;33m\u001b[0m\u001b[1;33m\u001b[0m\u001b[0m\n\u001b[0m\u001b[0;32m      7\u001b[0m             \u001b[0mprint\u001b[0m\u001b[1;33m(\u001b[0m\u001b[0ml1\u001b[0m\u001b[1;33m[\u001b[0m\u001b[0mi\u001b[0m\u001b[1;33m]\u001b[0m \u001b[1;33m,\u001b[0m\u001b[1;34m\" is not unique\"\u001b[0m\u001b[1;33m)\u001b[0m\u001b[1;33m\u001b[0m\u001b[1;33m\u001b[0m\u001b[0m\n\u001b[0;32m      8\u001b[0m         \u001b[1;32melse\u001b[0m\u001b[1;33m:\u001b[0m\u001b[1;33m\u001b[0m\u001b[1;33m\u001b[0m\u001b[0m\n",
      "\u001b[1;31mIndexError\u001b[0m: list index out of range"
     ]
    }
   ],
   "source": [
    "l1=[1,2,3,4,5,6,6,7,8,9]\n",
    "\n",
    "\n",
    "def func(l1):\n",
    "    for i in range(len(l1)):\n",
    "        if l1[i]==l1[i+1]:\n",
    "            print(l1[i] ,\" is not unique\")\n",
    "        else:\n",
    "            print(l1[i],\"is unique\")\n",
    "                \n",
    "                \n",
    "func(l1)"
   ]
  },
  {
   "cell_type": "markdown",
   "id": "78d4b0c9",
   "metadata": {},
   "source": [
    "### python program to find out the average of a set of integers\n",
    "a. Note: Don’t use the pre-defined functions like np.mean\n",
    "b. For ex: If input is 5, the output should be average of 1+2+3+4+5\n"
   ]
  },
  {
   "cell_type": "code",
   "execution_count": 58,
   "id": "25f3964e",
   "metadata": {},
   "outputs": [
    {
     "data": {
      "text/plain": [
       "15"
      ]
     },
     "execution_count": 58,
     "metadata": {},
     "output_type": "execute_result"
    }
   ],
   "source": [
    "def func(a):\n",
    "    if a==1:\n",
    "        return 1\n",
    "    elif a==0:\n",
    "        return 0\n",
    "    else:\n",
    "        return (a+func(a-1))\n",
    "            \n",
    "func(5)\n",
    "    "
   ]
  },
  {
   "cell_type": "markdown",
   "id": "a2681cd6",
   "metadata": {},
   "source": [
    "## Python program to check whether the given integer is a multiple of both 5 and 7\n"
   ]
  },
  {
   "cell_type": "code",
   "execution_count": 62,
   "id": "31fca9e7",
   "metadata": {},
   "outputs": [],
   "source": [
    "def func(a):\n",
    "    if (a%5==0):\n",
    "        if(a%7==0):\n",
    "            print(a,\"is multiple of both 5 and 7\")\n",
    "        else:\n",
    "            print(a,\" is multiple of 5 only\")\n",
    "    else:\n",
    "        print(a,\" is multiple of 7 only\")\n",
    "    "
   ]
  },
  {
   "cell_type": "code",
   "execution_count": 60,
   "id": "696dc760",
   "metadata": {},
   "outputs": [
    {
     "name": "stdout",
     "output_type": "stream",
     "text": [
      "35 is multiple of both 5 and 7\n"
     ]
    }
   ],
   "source": [
    "func(35)"
   ]
  },
  {
   "cell_type": "code",
   "execution_count": 63,
   "id": "be0b54b8",
   "metadata": {},
   "outputs": [
    {
     "name": "stdout",
     "output_type": "stream",
     "text": [
      "20  is multiple of 5 only\n"
     ]
    }
   ],
   "source": [
    "func(20)"
   ]
  },
  {
   "cell_type": "code",
   "execution_count": 64,
   "id": "6e5b37f0",
   "metadata": {},
   "outputs": [
    {
     "name": "stdout",
     "output_type": "stream",
     "text": [
      "21  is multiple of 7 only\n"
     ]
    }
   ],
   "source": [
    "func(21)"
   ]
  },
  {
   "cell_type": "markdown",
   "id": "acc1b6b7",
   "metadata": {},
   "source": [
    "##  Python program to display the given integer in reverse manner\n",
    "a. Ex: input 852, output should be 258"
   ]
  },
  {
   "cell_type": "code",
   "execution_count": 76,
   "id": "d7715792",
   "metadata": {},
   "outputs": [],
   "source": [
    "a=852\n",
    "def func(a):\n",
    "    print(str(a)[::-1])"
   ]
  },
  {
   "cell_type": "code",
   "execution_count": 77,
   "id": "3b7fd748",
   "metadata": {},
   "outputs": [
    {
     "name": "stdout",
     "output_type": "stream",
     "text": [
      "258\n"
     ]
    }
   ],
   "source": [
    "func(a)"
   ]
  },
  {
   "cell_type": "markdown",
   "id": "4260e394",
   "metadata": {},
   "source": [
    "##  Create an inner function to calculate the addition in the following way\n",
    "a. Create an outer function that will accept two parameters, a and b\n",
    "b. Create an inner function inside an outer function that will calculate the addition of a \n",
    "and b\n",
    "c. At last, an outer function will add 5 into addition and return it"
   ]
  },
  {
   "cell_type": "code",
   "execution_count": 118,
   "id": "ec82879a",
   "metadata": {},
   "outputs": [],
   "source": [
    "def of(a,b):\n",
    "    global x\n",
    "    def ifunc(c):\n",
    "        x=a+b+c\n",
    "    ifunc(10)\n",
    "    return (x+5)\n",
    "\n",
    "    "
   ]
  },
  {
   "cell_type": "code",
   "execution_count": 116,
   "id": "1f509adb",
   "metadata": {},
   "outputs": [
    {
     "ename": "NameError",
     "evalue": "name 'x' is not defined",
     "output_type": "error",
     "traceback": [
      "\u001b[1;31m---------------------------------------------------------------------------\u001b[0m",
      "\u001b[1;31mNameError\u001b[0m                                 Traceback (most recent call last)",
      "\u001b[1;32mC:\\Users\\MADHU'~1\\AppData\\Local\\Temp/ipykernel_11564/3996258526.py\u001b[0m in \u001b[0;36m<module>\u001b[1;34m\u001b[0m\n\u001b[1;32m----> 1\u001b[1;33m \u001b[0mof\u001b[0m\u001b[1;33m(\u001b[0m\u001b[1;36m2\u001b[0m\u001b[1;33m,\u001b[0m\u001b[1;36m3\u001b[0m\u001b[1;33m)\u001b[0m\u001b[1;33m\u001b[0m\u001b[1;33m\u001b[0m\u001b[0m\n\u001b[0m",
      "\u001b[1;32mC:\\Users\\MADHU'~1\\AppData\\Local\\Temp/ipykernel_11564/468209484.py\u001b[0m in \u001b[0;36mof\u001b[1;34m(a, b)\u001b[0m\n\u001b[0;32m      4\u001b[0m         \u001b[0mx\u001b[0m\u001b[1;33m=\u001b[0m\u001b[0ma\u001b[0m\u001b[1;33m+\u001b[0m\u001b[0mb\u001b[0m\u001b[1;33m+\u001b[0m\u001b[0mc\u001b[0m\u001b[1;33m\u001b[0m\u001b[1;33m\u001b[0m\u001b[0m\n\u001b[0;32m      5\u001b[0m     \u001b[0mifunc\u001b[0m\u001b[1;33m(\u001b[0m\u001b[1;36m10\u001b[0m\u001b[1;33m)\u001b[0m\u001b[1;33m\u001b[0m\u001b[1;33m\u001b[0m\u001b[0m\n\u001b[1;32m----> 6\u001b[1;33m     \u001b[1;32mreturn\u001b[0m \u001b[1;33m(\u001b[0m\u001b[0mx\u001b[0m\u001b[1;33m+\u001b[0m\u001b[1;36m5\u001b[0m\u001b[1;33m)\u001b[0m\u001b[1;33m\u001b[0m\u001b[1;33m\u001b[0m\u001b[0m\n\u001b[0m\u001b[0;32m      7\u001b[0m \u001b[1;33m\u001b[0m\u001b[0m\n\u001b[0;32m      8\u001b[0m \u001b[1;33m\u001b[0m\u001b[0m\n",
      "\u001b[1;31mNameError\u001b[0m: name 'x' is not defined"
     ]
    }
   ],
   "source": [
    "of(2,3)"
   ]
  },
  {
   "cell_type": "markdown",
   "id": "3df72e10",
   "metadata": {},
   "source": [
    "## python Program to Check Leap Year\n",
    "a. A leap year is exactly divisible by 4 except for century years (years ending with 00). \n",
    "The century year is a leap year only if it is perfectly divisible by 400\n",
    "b. For ex: 2017 is not a leap year, 1900 is a not leap year, 2012 is a leap year, 2000 is a \n",
    "leap year"
   ]
  },
  {
   "cell_type": "code",
   "execution_count": 122,
   "id": "6e2bbd49",
   "metadata": {},
   "outputs": [
    {
     "name": "stdout",
     "output_type": "stream",
     "text": [
      "Please Enter as you wish : 1900\n",
      "1900 is Not a leap year\n"
     ]
    }
   ],
   "source": [
    "ya = int(input(\"Please Enter as you wish : \"))\n",
    "\n",
    "if (ya%400 == 0):\n",
    "    print(ya,\"is a Leap year\")\n",
    "elif (ya%100 == 0):\n",
    "    print(ya,\"is Not a leap year\")\n",
    "elif (ya%4 == 0):\n",
    "    print(ya,\"is a Leap year\")\n",
    "else:\n",
    "    print(ya,\"is Not a lepa year\")"
   ]
  },
  {
   "cell_type": "code",
   "execution_count": null,
   "id": "4df0a31b",
   "metadata": {},
   "outputs": [],
   "source": []
  },
  {
   "cell_type": "code",
   "execution_count": null,
   "id": "0450dbf7",
   "metadata": {},
   "outputs": [],
   "source": []
  }
 ],
 "metadata": {
  "kernelspec": {
   "display_name": "Python 3 (ipykernel)",
   "language": "python",
   "name": "python3"
  },
  "language_info": {
   "codemirror_mode": {
    "name": "ipython",
    "version": 3
   },
   "file_extension": ".py",
   "mimetype": "text/x-python",
   "name": "python",
   "nbconvert_exporter": "python",
   "pygments_lexer": "ipython3",
   "version": "3.9.7"
  }
 },
 "nbformat": 4,
 "nbformat_minor": 5
}
